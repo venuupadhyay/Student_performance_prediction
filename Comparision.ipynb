{
 "cells": [
  {
   "cell_type": "code",
   "execution_count": 3,
   "metadata": {},
   "outputs": [
    {
     "name": "stdout",
     "output_type": "stream",
     "text": [
      "Accuracy of NB = 0.6302083333333334\n",
      "Accuracy for KNN =  0.6041666666666666\n"
     ]
    },
    {
     "name": "stderr",
     "output_type": "stream",
     "text": [
      "C:\\ProgramData\\Anaconda3\\lib\\site-packages\\sklearn\\utils\\validation.py:578: DataConversionWarning: A column-vector y was passed when a 1d array was expected. Please change the shape of y to (n_samples, ), for example using ravel().\n",
      "  y = column_or_1d(y, warn=True)\n",
      "C:\\ProgramData\\Anaconda3\\lib\\site-packages\\ipykernel_launcher.py:33: DataConversionWarning: A column-vector y was passed when a 1d array was expected. Please change the shape of y to (n_samples, ), for example using ravel().\n"
     ]
    }
   ],
   "source": [
    "import pandas as pd\n",
    "import matplotlib.pyplot as plt\n",
    "import numpy as np\n",
    "import seaborn as sns\n",
    "\n",
    "student=pd.read_csv('student.csv')\n",
    "from sklearn.preprocessing import LabelEncoder\n",
    "label=LabelEncoder()\n",
    "df=student.apply(label.fit_transform)\n",
    "\n",
    "corr=df.corr()  #find Correlation\n",
    "corr.nlargest(16,[\"Class\"])[\"Class\"]\n",
    "\n",
    "x=df[['gender', 'NationalITy', 'PlaceofBirth', 'StageID', 'GradeID',\n",
    "       'SectionID', 'Topic', 'Semester', 'Relation', 'raisedhands',\n",
    "       'VisITedResources', 'AnnouncementsView', 'Discussion',\n",
    "       'ParentAnsweringSurvey', 'ParentschoolSatisfaction',\n",
    "       'StudentAbsenceDays']]\n",
    "y=df[['Class']]\n",
    "\n",
    "from sklearn.model_selection import train_test_split\n",
    "x_train,x_test,y_train,y_test=train_test_split(x,y,test_size=0.4,random_state=4)  #if test_size defer -> accuracy also defer\n",
    "\n",
    "from sklearn.naive_bayes import GaussianNB\n",
    "model=GaussianNB()\n",
    "model.fit(x_train,y_train)\n",
    "pred = model.predict(x_test)\n",
    "#It takes a feature matrix X_test and the expected target values y_test. Predictions for X_test are compared with y_test and either accuracy (for classifiers) or R² score (for regression estimators is returned.\n",
    "accuracy_NB=model.score(x_test,y_test) \n",
    "print(\"Accuracy of NB =\",accuracy_NB)\n",
    "\n",
    "from sklearn.neighbors import KNeighborsClassifier\n",
    "model1 = KNeighborsClassifier()   #here by default n_neighbors = 5\n",
    "model1.fit(x_train,y_train)\n",
    "pred1 = model1.predict(x_test)\n",
    "accuracy_KNN=model1.score(x_test,y_test)\n",
    "print(\"Accuracy for KNN = \",accuracy_KNN)\n",
    "\n"
   ]
  },
  {
   "cell_type": "code",
   "execution_count": 19,
   "metadata": {},
   "outputs": [
    {
     "data": {
      "text/html": [
       "<div>\n",
       "<style scoped>\n",
       "    .dataframe tbody tr th:only-of-type {\n",
       "        vertical-align: middle;\n",
       "    }\n",
       "\n",
       "    .dataframe tbody tr th {\n",
       "        vertical-align: top;\n",
       "    }\n",
       "\n",
       "    .dataframe thead th {\n",
       "        text-align: right;\n",
       "    }\n",
       "</style>\n",
       "<table border=\"1\" class=\"dataframe\">\n",
       "  <thead>\n",
       "    <tr style=\"text-align: right;\">\n",
       "      <th></th>\n",
       "      <th>Gaussian NB</th>\n",
       "      <th>KNearest neighbour</th>\n",
       "    </tr>\n",
       "  </thead>\n",
       "  <tbody>\n",
       "    <tr>\n",
       "      <th>0</th>\n",
       "      <td>0.630208</td>\n",
       "      <td>0.604167</td>\n",
       "    </tr>\n",
       "  </tbody>\n",
       "</table>\n",
       "</div>"
      ],
      "text/plain": [
       "   Gaussian NB  KNearest neighbour\n",
       "0     0.630208            0.604167"
      ]
     },
     "execution_count": 19,
     "metadata": {},
     "output_type": "execute_result"
    }
   ],
   "source": [
    "result =pd.DataFrame({'KNearest neighbour':accuracy_KNN , 'Gaussian NB':accuracy_NB},index=[0])\n",
    "result"
   ]
  },
  {
   "cell_type": "code",
   "execution_count": 21,
   "metadata": {},
   "outputs": [
    {
     "name": "stdout",
     "output_type": "stream",
     "text": [
      "NB =               precision    recall  f1-score   support\n",
      "\n",
      "          0       0.54      0.89      0.67        55\n",
      "          1       0.84      0.73      0.78        59\n",
      "          2       0.58      0.37      0.45        78\n",
      "\n",
      "avg / total       0.65      0.63      0.62       192\n",
      "\n",
      "KNN =               precision    recall  f1-score   support\n",
      "\n",
      "          0       0.57      0.47      0.51        55\n",
      "          1       0.75      0.78      0.77        59\n",
      "          2       0.52      0.56      0.54        78\n",
      "\n",
      "avg / total       0.60      0.60      0.60       192\n",
      "\n"
     ]
    }
   ],
   "source": [
    "from sklearn.metrics import classification_report\n",
    "\n",
    "report=classification_report(y_test, pred)\n",
    "print(\"NB = \",report)\n",
    "\n",
    "report1=classification_report(y_test, pred1)\n",
    "print(\"KNN = \",report1)\n",
    "\n"
   ]
  },
  {
   "cell_type": "code",
   "execution_count": null,
   "metadata": {},
   "outputs": [],
   "source": []
  }
 ],
 "metadata": {
  "kernelspec": {
   "display_name": "Python 3",
   "language": "python",
   "name": "python3"
  },
  "language_info": {
   "codemirror_mode": {
    "name": "ipython",
    "version": 3
   },
   "file_extension": ".py",
   "mimetype": "text/x-python",
   "name": "python",
   "nbconvert_exporter": "python",
   "pygments_lexer": "ipython3",
   "version": "3.6.4"
  }
 },
 "nbformat": 4,
 "nbformat_minor": 2
}
